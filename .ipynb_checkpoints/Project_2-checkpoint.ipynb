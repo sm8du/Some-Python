{
 "cells": [
  {
   "cell_type": "markdown",
   "metadata": {},
   "source": [
    "This Python Notebook will import demographic data of the individuals who were aboard the Titanic when it ... you know."
   ]
  },
  {
   "cell_type": "code",
   "execution_count": 1,
   "metadata": {
    "collapsed": false
   },
   "outputs": [],
   "source": [
    "import pandas as pd\n",
    "import numpy as np\n",
    "import seaborn as sns\n",
    "import matplotlib.pyplot as plt\n",
    "%matplotlib inline\n",
    "from scipy.stats import ttest_ind\n",
    "titanic_df = pd.read_csv('/Users/Moscalu/Desktop/Python/Project_2/titanic_data.csv')  # data import \n"
   ]
  },
  {
   "cell_type": "code",
   "execution_count": 2,
   "metadata": {
    "collapsed": false
   },
   "outputs": [
    {
     "data": {
      "text/html": [
       "<div>\n",
       "<table border=\"1\" class=\"dataframe\">\n",
       "  <thead>\n",
       "    <tr style=\"text-align: right;\">\n",
       "      <th></th>\n",
       "      <th>PassengerId</th>\n",
       "      <th>Survived</th>\n",
       "      <th>Pclass</th>\n",
       "      <th>Age</th>\n",
       "      <th>SibSp</th>\n",
       "      <th>Parch</th>\n",
       "      <th>Fare</th>\n",
       "    </tr>\n",
       "  </thead>\n",
       "  <tbody>\n",
       "    <tr>\n",
       "      <th>count</th>\n",
       "      <td>891.000000</td>\n",
       "      <td>891.000000</td>\n",
       "      <td>891.000000</td>\n",
       "      <td>714.000000</td>\n",
       "      <td>891.000000</td>\n",
       "      <td>891.000000</td>\n",
       "      <td>891.000000</td>\n",
       "    </tr>\n",
       "    <tr>\n",
       "      <th>mean</th>\n",
       "      <td>446.000000</td>\n",
       "      <td>0.383838</td>\n",
       "      <td>2.308642</td>\n",
       "      <td>29.699118</td>\n",
       "      <td>0.523008</td>\n",
       "      <td>0.381594</td>\n",
       "      <td>32.204208</td>\n",
       "    </tr>\n",
       "    <tr>\n",
       "      <th>std</th>\n",
       "      <td>257.353842</td>\n",
       "      <td>0.486592</td>\n",
       "      <td>0.836071</td>\n",
       "      <td>14.526497</td>\n",
       "      <td>1.102743</td>\n",
       "      <td>0.806057</td>\n",
       "      <td>49.693429</td>\n",
       "    </tr>\n",
       "    <tr>\n",
       "      <th>min</th>\n",
       "      <td>1.000000</td>\n",
       "      <td>0.000000</td>\n",
       "      <td>1.000000</td>\n",
       "      <td>0.420000</td>\n",
       "      <td>0.000000</td>\n",
       "      <td>0.000000</td>\n",
       "      <td>0.000000</td>\n",
       "    </tr>\n",
       "    <tr>\n",
       "      <th>25%</th>\n",
       "      <td>223.500000</td>\n",
       "      <td>0.000000</td>\n",
       "      <td>2.000000</td>\n",
       "      <td>20.125000</td>\n",
       "      <td>0.000000</td>\n",
       "      <td>0.000000</td>\n",
       "      <td>7.910400</td>\n",
       "    </tr>\n",
       "    <tr>\n",
       "      <th>50%</th>\n",
       "      <td>446.000000</td>\n",
       "      <td>0.000000</td>\n",
       "      <td>3.000000</td>\n",
       "      <td>28.000000</td>\n",
       "      <td>0.000000</td>\n",
       "      <td>0.000000</td>\n",
       "      <td>14.454200</td>\n",
       "    </tr>\n",
       "    <tr>\n",
       "      <th>75%</th>\n",
       "      <td>668.500000</td>\n",
       "      <td>1.000000</td>\n",
       "      <td>3.000000</td>\n",
       "      <td>38.000000</td>\n",
       "      <td>1.000000</td>\n",
       "      <td>0.000000</td>\n",
       "      <td>31.000000</td>\n",
       "    </tr>\n",
       "    <tr>\n",
       "      <th>max</th>\n",
       "      <td>891.000000</td>\n",
       "      <td>1.000000</td>\n",
       "      <td>3.000000</td>\n",
       "      <td>80.000000</td>\n",
       "      <td>8.000000</td>\n",
       "      <td>6.000000</td>\n",
       "      <td>512.329200</td>\n",
       "    </tr>\n",
       "  </tbody>\n",
       "</table>\n",
       "</div>"
      ],
      "text/plain": [
       "       PassengerId    Survived      Pclass         Age       SibSp  \\\n",
       "count   891.000000  891.000000  891.000000  714.000000  891.000000   \n",
       "mean    446.000000    0.383838    2.308642   29.699118    0.523008   \n",
       "std     257.353842    0.486592    0.836071   14.526497    1.102743   \n",
       "min       1.000000    0.000000    1.000000    0.420000    0.000000   \n",
       "25%     223.500000    0.000000    2.000000   20.125000    0.000000   \n",
       "50%     446.000000    0.000000    3.000000   28.000000    0.000000   \n",
       "75%     668.500000    1.000000    3.000000   38.000000    1.000000   \n",
       "max     891.000000    1.000000    3.000000   80.000000    8.000000   \n",
       "\n",
       "            Parch        Fare  \n",
       "count  891.000000  891.000000  \n",
       "mean     0.381594   32.204208  \n",
       "std      0.806057   49.693429  \n",
       "min      0.000000    0.000000  \n",
       "25%      0.000000    7.910400  \n",
       "50%      0.000000   14.454200  \n",
       "75%      0.000000   31.000000  \n",
       "max      6.000000  512.329200  "
      ]
     },
     "execution_count": 2,
     "metadata": {},
     "output_type": "execute_result"
    }
   ],
   "source": [
    "titanic_df.describe() #unaltered data description to see what we are dealing with"
   ]
  },
  {
   "cell_type": "markdown",
   "metadata": {},
   "source": [
    "Does age impact survial rate?  "
   ]
  },
  {
   "cell_type": "code",
   "execution_count": 3,
   "metadata": {
    "collapsed": false,
    "scrolled": true
   },
   "outputs": [
    {
     "name": "stdout",
     "output_type": "stream",
     "text": [
      "The mean age for the individuals who survived was: 28.3\n",
      "The mean age for the indviduals who died was: 30.6.\n",
      "t-test: Ttest_indResult(statistic=-2.0666869462538102, pvalue=0.039124654013482488)\n",
      "\n",
      "The data shows that the individuals who died are about 2 years older on average.\n",
      "This conclusion is statistically supported by a t-test.\n",
      "__\n"
     ]
    },
    {
     "data": {
      "image/png": "[encoded data removed]",
      "text/plain": [
       "<matplotlib.figure.Figure at 0x116af7d10>"
      ]
     },
     "metadata": {},
     "output_type": "display_data"
    }
   ],
   "source": [
    "titanic_df_Age = pd.read_csv('/Users/Moscalu/Desktop/Python/Project_2/titanic_data.csv') # created a new instance of the data\n",
    "\n",
    "titanic_df_Age.sort_values(['Survived','Age'], inplace=True, ascending=True,na_position='last') #Sorting by Survived Column\n",
    "titanic_df_Age.dropna(subset=['Survived','Age'], inplace=True) #removed all instances where age & survival info was not available \n",
    "##\n",
    "Age_Survived = titanic_df_Age.groupby(['Survived']).get_group(1) # Created group consisting of the living \n",
    "Age_Died = titanic_df_Age.groupby(['Survived']).get_group(0) #  Created group consisting of the dead \n",
    "Describe_Age_Survived = Age_Survived['Age'].describe() # analyzed each group\n",
    "Describe_Age_Died = Age_Died['Age'].describe()\n",
    "\n",
    "s=ttest_ind(Age_Survived['Age'],Age_Died['Age']) # two-way paird t-test with p <.05  \n",
    "##\n",
    "print 'The mean age for the individuals who survived was: {}'.format(round(Describe_Age_Survived['mean'],1))\n",
    "print 'The mean age for the indviduals who died was: {}.'.format(round(Describe_Age_Died['mean'],1))\n",
    "print 't-test: {}'.format(s)\n",
    "\n",
    "\n",
    "# Figures were created to display the data \n",
    "fig, axs = plt.subplots(1,3)\n",
    "fig.tight_layout(pad=1.4, w_pad=3.0, h_pad=1.0)\n",
    "\n",
    "axs[0].set_xlabel('Age')\n",
    "axs[1].set_xlabel('Age')\n",
    "axs[0].set_ylabel('Frequency')\n",
    "axs[1].set_ylabel('Frequency')\n",
    "\n",
    "axs[0].set_title('Survived')\n",
    "axs[1].set_title('Died')\n",
    "Age_Survived['Age'].hist(ax=axs[0])  # left \n",
    "Age_Died['Age'].hist(ax=axs[1]) # center\n",
    "p = titanic_df_Age.groupby('Survived')['Age'].mean().plot(kind = 'bar', title = 'Survivability by Mean Age')\n",
    "p.set_ylabel('Age') # right\n",
    "\n",
    "print ''\n",
    "print 'The data suggests that the individuals who died are about 2 years older on average.'\n",
    "print 'This conclusion is statistically supported by a t-test.'\n",
    "print '__'\n"
   ]
  },
  {
   "cell_type": "markdown",
   "metadata": {},
   "source": [
    "Does it age matter between the sexs? "
   ]
  },
  {
   "cell_type": "code",
   "execution_count": 13,
   "metadata": {
    "collapsed": false
   },
   "outputs": [
    {
     "name": "stdout",
     "output_type": "stream",
     "text": [
      "Qualitatively the results reveal males who died tended to be older than those who made it off the boat. This trend   was opposite for females.\n"
     ]
    },
    {
     "data": {
      "image/png": "[encoded data removed]",
      "text/plain": [
       "<matplotlib.figure.Figure at 0x11a096350>"
      ]
     },
     "metadata": {},
     "output_type": "display_data"
    }
   ],
   "source": [
    "plot = sns.boxplot(data = titanic_df.dropna(subset = ['Age']), x = 'Sex', y = 'Age', hue = 'Survived')\n",
    "plot.set(title = 'Age by Sex and Survival\\nBox Plot', xlabel = '')\n",
    "\n",
    "print 'Qualitatively the results reveal that males who died tended to be older than those who made it off the boat. ' \\\n",
    "        'This trend   was opposite for females.'"
   ]
  },
  {
   "cell_type": "markdown",
   "metadata": {},
   "source": [
    "Is there a difference in survival rate between first class and third class? "
   ]
  },
  {
   "cell_type": "code",
   "execution_count": 14,
   "metadata": {
    "collapsed": false
   },
   "outputs": [
    {
     "name": "stdout",
     "output_type": "stream",
     "text": [
      "The survial rate in first class was: 65.6 %\n",
      "The survial rate in third class was: 23.9 %\n",
      "\n",
      "The results show that first class had a survival rate about 3 times higher as third class. \n",
      "__\n"
     ]
    },
    {
     "data": {
      "text/plain": [
       "[<matplotlib.text.Text at 0x116d14310>,\n",
       " <matplotlib.text.Text at 0x103f7cd50>,\n",
       " <matplotlib.text.Text at 0x116cca090>]"
      ]
     },
     "execution_count": 14,
     "metadata": {},
     "output_type": "execute_result"
    },
    {
     "data": {
      "image/png": "[encoded data removed]",
      "text/plain": [
       "<matplotlib.figure.Figure at 0x11369e5d0>"
      ]
     },
     "metadata": {},
     "output_type": "display_data"
    }
   ],
   "source": [
    "titanic_df_Pclass = pd.read_csv('/Users/Moscalu/Desktop/Python/Project_2/titanic_data.csv') # created new instance \n",
    "titanic_df_Pclass.dropna(subset=['Survived','Pclass'], inplace=True) # removed all rows with 'NaN' data points \n",
    "\n",
    "P_class_1=titanic_df_Age.groupby(['Pclass']).get_group(1) # Created a 1st class group\n",
    "P_class_3=mean=titanic_df_Age.groupby(['Pclass']).get_group(3) # Created a 3rd class group\n",
    "Describe_P_class_1=P_class_1['Survived'].describe() # Analyzed the two groups\n",
    "Describe_P_class_3=P_class_3['Survived'].describe()\n",
    "\n",
    "\n",
    "\n",
    "print 'The survial rate in first class was: {} %'.format(round(Describe_P_class_1['mean'] *100,1))\n",
    "print 'The survial rate in third class was: {} %'.format(round(Describe_P_class_3['mean'] *100,1))\n",
    "print ''\n",
    "print 'The results show that first class had a survival rate about 3 times higher as third class. ' \n",
    "print '__'\n",
    "# Created figure displaying all three groups \n",
    "df = titanic_df.groupby(['Pclass', 'Survived']).apply(len).reset_index()\n",
    "p = sns.barplot(data = df, x = 'Pclass', y = 0, hue = 'Survived')\n",
    "p.set_xticklabels(['First Class', 'Second Class', 'Third Class'])\n",
    "p.set(xlabel = '', ylabel = 'Frequency', title = 'Class Survival Counts')"
   ]
  },
  {
   "cell_type": "markdown",
   "metadata": {},
   "source": [
    "Is there a difference in survival rate between females in first class and third class?\n"
   ]
  },
  {
   "cell_type": "code",
   "execution_count": 16,
   "metadata": {
    "collapsed": false
   },
   "outputs": [
    {
     "name": "stdout",
     "output_type": "stream",
     "text": [
      "The mean survival rate in first class for females was 96.5 %\n",
      "The mean survival rate in third class for females was 46.1 %\n",
      "\n",
      "The results suggest that females in first class had a much higher rate of survival.\n",
      "__\n"
     ]
    }
   ],
   "source": [
    "titanic_df_Pclass.dropna(subset=['Sex'], inplace=True)\n",
    "P_class_1_female=titanic_df_Age.groupby(['Pclass']).get_group(1).groupby(['Sex']).get_group('female')\n",
    "P_class_3_female=titanic_df_Age.groupby(['Pclass']).get_group(3).groupby(['Sex']).get_group('female')\n",
    "Describe_P_class_1_female=P_class_1_female['Survived'].describe()\n",
    "Describe_P_class_3_female=P_class_3_female['Survived'].describe()\n",
    "\n",
    "e=ttest_ind(P_class_1_female['Survived'], P_class_3_female['Survived'])\n",
    "print 'The mean survival rate in first class for females was {} %'.format(round(Describe_P_class_1_female['mean']*100,1))\n",
    "print 'The mean survival rate in third class for females was {} %'.format(round(Describe_P_class_3_female['mean']*100,1))\n",
    "print ''\n",
    "print 'The results suggest that females in first class had a much higher rate of survival.'\n",
    "print '__'"
   ]
  },
  {
   "cell_type": "markdown",
   "metadata": {},
   "source": [
    "What is the average age of individuals between the three classes?"
   ]
  },
  {
   "cell_type": "code",
   "execution_count": 6,
   "metadata": {
    "collapsed": false
   },
   "outputs": [
    {
     "name": "stdout",
     "output_type": "stream",
     "text": [
      "The mean age for First Class was: 38.2334408602 years old\n",
      "The mean age for Second Class was: 29.8776300578 years old\n",
      "The mean age for Third Class was: 25.1406197183 years old\n",
      "___\n"
     ]
    },
    {
     "data": {
      "text/plain": [
       "<matplotlib.text.Text at 0x119cc9590>"
      ]
     },
     "execution_count": 6,
     "metadata": {},
     "output_type": "execute_result"
    },
    {
     "data": {
      "image/png": "[encoded data removed]",
      "text/plain": [
       "<matplotlib.figure.Figure at 0x116b4ce90>"
      ]
     },
     "metadata": {},
     "output_type": "display_data"
    }
   ],
   "source": [
    "Mean_Class_1=titanic_df_Age.groupby(['Pclass']).get_group(1).mean()\n",
    "Mean_Class_2=titanic_df_Age.groupby(['Pclass']).get_group(2).mean()\n",
    "Mean_Class_3=titanic_df_Age.groupby(['Pclass']).get_group(3).mean()\n",
    "\n",
    "print 'The mean age for First Class was: {} years old'.format(Mean_Class_1['Age'])\n",
    "print 'The mean age for Second Class was: {} years old'.format(Mean_Class_2['Age'])\n",
    "print 'The mean age for Third Class was: {} years old'.format(Mean_Class_3['Age'])\n",
    "print '___'\n",
    "#Histo\n",
    "f=titanic_df_Age.groupby(['Pclass']).get_group(1)\n",
    "a=titanic_df_Age.groupby(['Pclass']).get_group(2)\n",
    "n=titanic_df_Age.groupby(['Pclass']).get_group(3)\n",
    "\n",
    "fig, axs = plt.subplots(1,3)\n",
    "\n",
    "f['Age'].hist(ax=axs[0]) #left - Class 1\n",
    "\n",
    "a['Age'].hist(ax=axs[1]) #center - Class 2\n",
    "\n",
    "n['Age'].hist(ax=axs[2]) #right - Class 3\n",
    "\n",
    "\n",
    "fig.tight_layout(pad=1.4, w_pad=3.0, h_pad=1.0)\n",
    "\n",
    "axs[0].set_xlabel('Age')\n",
    "axs[1].set_xlabel('Age')\n",
    "axs[2].set_xlabel('Age')\n",
    "\n",
    "axs[0].set_title('First Class')\n",
    "axs[1].set_title('Second Class')\n",
    "axs[2].set_title('Third Class')\n",
    "\n",
    "axs[0].set_ylabel('Frequency')\n",
    "axs[1].set_ylabel('Frequency')\n",
    "axs[2].set_ylabel('Frequency')\n",
    "\n"
   ]
  },
  {
   "cell_type": "markdown",
   "metadata": {
    "collapsed": true
   },
   "source": [
    "## Limitations of the Analysis"
   ]
  },
  {
   "cell_type": "markdown",
   "metadata": {},
   "source": [
    "The dataset provided was not complete and contained cells with missing data denoted by 'NaN'. This data was removed to make calculations more robust, however this fundamentally changed the population from ~800 rows to ~700 rows. Thus all results were subject to my manipulation and may not represent the actual trends of the titanic. \n",
    "\n",
    "A t-test was not appropriate for determining statistical significance of non-normal categorical variables.  Survival, although being labeled with 1s and 0s, is technically a categorical variable. To analyze these results a A Chi-Squared Test should be performed. \n",
    "\n",
    "In future studies, an ANOVA could be implemented to analyze the mean age of the three classes against each other to determine if they are all truly independent from one another.\n"
   ]
  }
 ],
 "metadata": {
  "kernelspec": {
   "display_name": "Python 2",
   "language": "python",
   "name": "python2"
  },
  "language_info": {
   "codemirror_mode": {
    "name": "ipython",
    "version": 2
   },
   "file_extension": ".py",
   "mimetype": "text/x-python",
   "name": "python",
   "nbconvert_exporter": "python",
   "pygments_lexer": "ipython2",
   "version": "2.7.11"
  }
 },
 "nbformat": 4,
 "nbformat_minor": 0
}
